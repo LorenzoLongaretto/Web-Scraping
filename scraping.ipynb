{
 "cells": [
  {
   "attachments": {},
   "cell_type": "markdown",
   "metadata": {},
   "source": [
    "# Web Scraping"
   ]
  },
  {
   "cell_type": "code",
   "execution_count": 10,
   "metadata": {},
   "outputs": [],
   "source": [
    "import requests\n",
    "from bs4 import BeautifulSoup\n",
    "import csv\n",
    "from datetime import datetime"
   ]
  },
  {
   "cell_type": "code",
   "execution_count": 11,
   "metadata": {},
   "outputs": [],
   "source": [
    "page = requests.get(\"https://store.steampowered.com/explore/new/\").text \n",
    "soup = BeautifulSoup(page, \"lxml\")\n",
    "#print(soup)"
   ]
  },
  {
   "cell_type": "code",
   "execution_count": 12,
   "metadata": {},
   "outputs": [],
   "source": [
    "nuevos = soup.find(id=\"tab_allnewreleases_content\")\n",
    "#print(nuevos)"
   ]
  },
  {
   "cell_type": "code",
   "execution_count": 13,
   "metadata": {},
   "outputs": [
    {
     "name": "stdout",
     "output_type": "stream",
     "text": [
      "EL juego  Audio Trip tiene un precio de:  ARS$ 224,99  y su precio con impuesto es de:  393.73\n",
      "EL juego  I Love Finding Birds tiene un precio de:  ARS$ 412,50  y su precio con impuesto es de:  721.88\n",
      "EL juego  Arkio tiene un precio de:  Free  y su precio con impuesto es de:  Free\n",
      "EL juego  Ansoku tiene un precio de:  ARS$ 73,80  y su precio con impuesto es de:  129.15\n",
      "EL juego  Geometric Sniper - Z tiene un precio de:  ARS$ 240,00  y su precio con impuesto es de:  420.0\n",
      "EL juego  Crowd Medieval City War tiene un precio de:  ARS$ 82,00  y su precio con impuesto es de:  143.5\n",
      "EL juego  Sakura Gym Girls tiene un precio de:  ARS$ 573,75  y su precio con impuesto es de:  1004.06\n",
      "EL juego  Labyrinth of Chaos tiene un precio de:  ARS$ 475,00  y su precio con impuesto es de:  831.25\n",
      "EL juego  Find your way tiene un precio de:  ARS$ 1.200,00  y su precio con impuesto es de:  2100.0\n",
      "EL juego  Can Gym Break This? tiene un precio de:  ARS$ 97,49  y su precio con impuesto es de:  170.61\n",
      "EL juego  Mountain Parkour tiene un precio de:  ARS$ 840,00  y su precio con impuesto es de:  1470.0\n",
      "EL juego  Enduring Dreamers™: Freya tiene un precio de:  ARS$ 999,99  y su precio con impuesto es de:  1749.98\n",
      "EL juego  Unrushed Defence tiene un precio de:  ARS$ 420,00  y su precio con impuesto es de:  735.0\n",
      "EL juego  Alexios The Protector tiene un precio de:  ARS$ 285,00  y su precio con impuesto es de:  498.75\n",
      "EL juego  77 Oleander Avenue tiene un precio de:  ARS$ 340,00  y su precio con impuesto es de:  595.0\n",
      "EL juego  BreakoutForce tiene un precio de:  ARS$ 123,75  y su precio con impuesto es de:  216.56\n",
      "EL juego  Students of Light Bonds - Typing RPG with Character Creation - tiene un precio de:  ARS$ 527,00  y su precio con impuesto es de:  922.25\n",
      "EL juego  Candyboy tiene un precio de:  ARS$ 82,00  y su precio con impuesto es de:  143.5\n",
      "EL juego  Master of Ski tiene un precio de:  ARS$ 99,00  y su precio con impuesto es de:  173.25\n",
      "EL juego  Airborne Ranger tiene un precio de:  ARS$ 765,00  y su precio con impuesto es de:  1338.75\n",
      "EL juego  Causal Nexus tiene un precio de:  ARS$ 735,00  y su precio con impuesto es de:  1286.25\n",
      "EL juego  Aery VR - Calm Mind tiene un precio de:  ARS$ 103,99  y su precio con impuesto es de:  181.98\n",
      "EL juego  IN THE BUILDING: CATS 2 tiene un precio de:  ARS$ 99,00  y su precio con impuesto es de:  173.25\n",
      "EL juego  CaseCracker tiene un precio de:  ARS$ 311,97  y su precio con impuesto es de:  545.95\n",
      "EL juego  Chai tiene un precio de:  ARS$ 573,75  y su precio con impuesto es de:  1004.06\n",
      "EL juego  Spirit Slider tiene un precio de:  ARS$ 288,00  y su precio con impuesto es de:  504.0\n",
      "EL juego  Silence In The Cabin tiene un precio de:  Free To Play  y su precio con impuesto es de:  Free To Play\n",
      "EL juego  CRASH-SAN tiene un precio de:  Free  y su precio con impuesto es de:  Free\n",
      "EL juego  Hot Springs Story 2 tiene un precio de:  ARS$ 225,00  y su precio con impuesto es de:  393.75\n",
      "EL juego  Beastie Bay DX tiene un precio de:  ARS$ 225,00  y su precio con impuesto es de:  393.75\n",
      "EL juego  SokoMelody tiene un precio de:  ARS$ 11,19  y su precio con impuesto es de:  19.58\n",
      "EL juego  StrayCatDoors2 tiene un precio de:  ARS$ 700,00  y su precio con impuesto es de:  1225.0\n",
      "EL juego  Summoner'sSurvival tiene un precio de:  ARS$ 165,00  y su precio con impuesto es de:  288.75\n",
      "EL juego  Tournament Ark tiene un precio de:  Free  y su precio con impuesto es de:  Free\n",
      "EL juego  Miss Neko 3 tiene un precio de:  ARS$ 256,20  y su precio con impuesto es de:  448.35\n",
      "EL juego  Unsettled tiene un precio de:  ARS$ 129,99  y su precio con impuesto es de:  227.48\n"
     ]
    }
   ],
   "source": [
    "juegos=nuevos.find_all(\"div\",{\"class\",\"tab_item_name\"})\n",
    "\n",
    "precios=nuevos.find_all(class_=\"discount_final_price\")\n",
    "\n",
    "\n",
    "for juego,precio in zip(juegos,precios):\n",
    "    precioft=precio.text\n",
    "    if(precioft!= \"Free To Play\" and precioft!= \"Gratuito\" and precioft!= \"Free\"):\n",
    "        precioft=precioft.split(\" \")\n",
    "        precioft=precioft[1]\n",
    "        precioft=precioft.replace(\".\",\"\")\n",
    "        precioft=precioft.replace(\",\",\".\")\n",
    "        precioft=round(float(precioft)*1.75,2)\n",
    "        #print(precioft)\n",
    "    print(\"EL juego \",juego.text,\"tiene un precio de: \",precio.text, \" y su precio con impuesto es de: \",precioft)"
   ]
  },
  {
   "attachments": {},
   "cell_type": "markdown",
   "metadata": {},
   "source": [
    "## Guardar en CSV"
   ]
  },
  {
   "cell_type": "code",
   "execution_count": 14,
   "metadata": {},
   "outputs": [
    {
     "name": "stdout",
     "output_type": "stream",
     "text": [
      "Audio Trip ARS$ 224,99\n",
      "I Love Finding Birds ARS$ 412,50\n",
      "Arkio Free\n",
      "Ansoku ARS$ 73,80\n",
      "Geometric Sniper - Z ARS$ 240,00\n",
      "Crowd Medieval City War ARS$ 82,00\n",
      "Sakura Gym Girls ARS$ 573,75\n",
      "Labyrinth of Chaos ARS$ 475,00\n",
      "Find your way ARS$ 1.200,00\n",
      "Can Gym Break This? ARS$ 97,49\n",
      "Mountain Parkour ARS$ 840,00\n",
      "Enduring Dreamers™: Freya ARS$ 999,99\n",
      "Unrushed Defence ARS$ 420,00\n",
      "Alexios The Protector ARS$ 285,00\n",
      "77 Oleander Avenue ARS$ 340,00\n",
      "BreakoutForce ARS$ 123,75\n",
      "Students of Light Bonds - Typing RPG with Character Creation - ARS$ 527,00\n",
      "Candyboy ARS$ 82,00\n",
      "Master of Ski ARS$ 99,00\n",
      "Airborne Ranger ARS$ 765,00\n",
      "Causal Nexus ARS$ 735,00\n",
      "Aery VR - Calm Mind ARS$ 103,99\n",
      "IN THE BUILDING: CATS 2 ARS$ 99,00\n",
      "CaseCracker ARS$ 311,97\n",
      "Chai ARS$ 573,75\n",
      "Spirit Slider ARS$ 288,00\n",
      "Silence In The Cabin Free To Play\n",
      "CRASH-SAN Free\n",
      "Hot Springs Story 2 ARS$ 225,00\n",
      "Beastie Bay DX ARS$ 225,00\n",
      "SokoMelody ARS$ 11,19\n",
      "StrayCatDoors2 ARS$ 700,00\n",
      "Summoner'sSurvival ARS$ 165,00\n",
      "Tournament Ark Free\n",
      "Miss Neko 3 ARS$ 256,20\n",
      "Unsettled ARS$ 129,99\n"
     ]
    }
   ],
   "source": [
    "with open('ultimos-juegos.csv', 'a') as csv_file:\n",
    "     writer = csv.writer(csv_file)\n",
    "     for juego,precio in zip(juegos,precios):\n",
    "        print(juego.text, precio.text)\n",
    "        writer.writerow([juego.text, precio.text])"
   ]
  }
 ],
 "metadata": {
  "kernelspec": {
   "display_name": "Python 3",
   "language": "python",
   "name": "python3"
  },
  "language_info": {
   "codemirror_mode": {
    "name": "ipython",
    "version": 3
   },
   "file_extension": ".py",
   "mimetype": "text/x-python",
   "name": "python",
   "nbconvert_exporter": "python",
   "pygments_lexer": "ipython3",
   "version": "3.9.13"
  },
  "orig_nbformat": 4,
  "vscode": {
   "interpreter": {
    "hash": "5a9dd97664bf91ef683581d1f7f613b6b8bcbe68b67ef643700d803de5486458"
   }
  }
 },
 "nbformat": 4,
 "nbformat_minor": 2
}
