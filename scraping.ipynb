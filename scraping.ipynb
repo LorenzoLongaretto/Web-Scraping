{
 "cells": [
  {
   "attachments": {},
   "cell_type": "markdown",
   "metadata": {},
   "source": [
    "# Web Scraping"
   ]
  },
  {
   "cell_type": "code",
   "execution_count": 1,
   "metadata": {},
   "outputs": [],
   "source": [
    "import requests\n",
    "from bs4 import BeautifulSoup\n",
    "import csv\n",
    "from datetime import datetime"
   ]
  },
  {
   "cell_type": "code",
   "execution_count": 2,
   "metadata": {},
   "outputs": [],
   "source": [
    "page = requests.get(\"https://store.steampowered.com/\").text \n",
    "soup = BeautifulSoup(page, \"lxml\")\n",
    "#print(soup)"
   ]
  },
  {
   "cell_type": "code",
   "execution_count": 6,
   "metadata": {},
   "outputs": [],
   "source": [
    "nuevos = soup.find(id=\"tab_newreleases_content\")\n",
    "#print(nuevos)"
   ]
  },
  {
   "cell_type": "code",
   "execution_count": 18,
   "metadata": {},
   "outputs": [
    {
     "name": "stdout",
     "output_type": "stream",
     "text": [
      "EL juego  Miss Neko 3 tiene un precio de:  ARS$ 256,20  y su precio con impuesto es de:  448.35\n",
      "EL juego  Antimatter Dimensions tiene un precio de:  Free To Play  y su precio con impuesto es de:  Free To Play\n",
      "EL juego  X-Plane 12 tiene un precio de:  ARS$ 2.500,00  y su precio con impuesto es de:  4375.0\n",
      "EL juego  Outpath: First Journey tiene un precio de:  Free  y su precio con impuesto es de:  Free\n",
      "EL juego  Duelyst II tiene un precio de:  Free To Play  y su precio con impuesto es de:  Free To Play\n",
      "EL juego  Handyman Corporation: Prologue tiene un precio de:  Free To Play  y su precio con impuesto es de:  Free To Play\n",
      "EL juego  Demeo: PC Edition tiene un precio de:  ARS$ 263,99  y su precio con impuesto es de:  461.98\n",
      "EL juego  Melatonin tiene un precio de:  ARS$ 945,00  y su precio con impuesto es de:  1653.75\n",
      "EL juego  Chicken Invaders Universe tiene un precio de:  Free To Play  y su precio con impuesto es de:  Free To Play\n",
      "EL juego  BLACKTAIL tiene un precio de:  ARS$ 1.759,20  y su precio con impuesto es de:  3078.6\n",
      "EL juego  River City Girls 2 tiene un precio de:  ARS$ 395,99  y su precio con impuesto es de:  692.98\n",
      "EL juego  Lil Gator Game tiene un precio de:  ARS$ 980,00  y su precio con impuesto es de:  1715.0\n",
      "EL juego  Buriedbornes - Dungeon RPG tiene un precio de:  Free To Play  y su precio con impuesto es de:  Free To Play\n",
      "EL juego  Potion Craft: Alchemist Simulator tiene un precio de:  ARS$ 143,99  y su precio con impuesto es de:  251.98\n",
      "EL juego  CRISIS CORE –FINAL FANTASY VII– REUNION tiene un precio de:  ARS$ 3.699,00  y su precio con impuesto es de:  6473.25\n",
      "EL juego  Master of Magic tiene un precio de:  ARS$ 2.600,00  y su precio con impuesto es de:  4550.0\n",
      "EL juego  High On Life tiene un precio de:  ARS$ 649,99  y su precio con impuesto es de:  1137.48\n",
      "EL juego  STALCRAFT tiene un precio de:  Free To Play  y su precio con impuesto es de:  Free To Play\n",
      "EL juego  Choo-Choo Charles tiene un precio de:  ARS$ 1.400,00  y su precio con impuesto es de:  2450.0\n",
      "EL juego  Chained Echoes tiene un precio de:  ARS$ 1.750,00  y su precio con impuesto es de:  3062.5\n",
      "EL juego  Assassin's Creed Valhalla tiene un precio de:  ARS$ 1.979,67  y su precio con impuesto es de:  3464.42\n",
      "EL juego  Knights of Honor II: Sovereign tiene un precio de:  ARS$ 2.850,00  y su precio con impuesto es de:  4987.5\n",
      "EL juego  Kynseed tiene un precio de:  ARS$ 1.750,00  y su precio con impuesto es de:  3062.5\n",
      "EL juego  Dwarf Fortress tiene un precio de:  ARS$ 1.215,00  y su precio con impuesto es de:  2126.25\n",
      "EL juego  Divine Knockout (DKO) tiene un precio de:  ARS$ 1.531,00  y su precio con impuesto es de:  2679.25\n",
      "EL juego  Divine Knockout (DKO) tiene un precio de:  ARS$ 1.531,00  y su precio con impuesto es de:  2679.25\n",
      "EL juego  Maurice: In The Predator's Nest tiene un precio de:  Free To Play  y su precio con impuesto es de:  Free To Play\n",
      "EL juego  Need for Speed™ Unbound tiene un precio de:  ARS$ 8.999,00  y su precio con impuesto es de:  15748.25\n",
      "EL juego  Need for Speed™ Unbound tiene un precio de:  ARS$ 8.999,00  y su precio con impuesto es de:  15748.25\n",
      "EL juego  The Crackpet Show: Prologue tiene un precio de:  Free  y su precio con impuesto es de:  Free\n"
     ]
    }
   ],
   "source": [
    "juegos=nuevos.find_all(\"div\",{\"class\",\"tab_item_name\"})\n",
    "\n",
    "precios=nuevos.find_all(class_=\"discount_final_price\")\n",
    "\n",
    "\n",
    "for juego,precio in zip(juegos,precios):\n",
    "    precioft=precio.text\n",
    "    if(precioft!= \"Free To Play\" and precioft!= \"Gratuito\" and precioft!= \"Free\"):\n",
    "        precioft=precioft.split(\" \")\n",
    "        precioft=precioft[1]\n",
    "        precioft=precioft.replace(\".\",\"\")\n",
    "        precioft=precioft.replace(\",\",\".\")\n",
    "        precioft=round(float(precioft)*1.75,2)\n",
    "        #print(precioft)\n",
    "    print(\"EL juego \",juego.text,\"tiene un precio de: \",precio.text, \" y su precio con impuesto es de: \",precioft)"
   ]
  },
  {
   "attachments": {},
   "cell_type": "markdown",
   "metadata": {},
   "source": [
    "## Guardar en CSV"
   ]
  },
  {
   "cell_type": "code",
   "execution_count": 17,
   "metadata": {},
   "outputs": [
    {
     "name": "stdout",
     "output_type": "stream",
     "text": [
      "Miss Neko 3 ARS$ 256,20\n",
      "Antimatter Dimensions Free To Play\n",
      "X-Plane 12 ARS$ 2.500,00\n",
      "Outpath: First Journey Free\n",
      "Duelyst II Free To Play\n",
      "Handyman Corporation: Prologue Free To Play\n",
      "Demeo: PC Edition ARS$ 263,99\n",
      "Melatonin ARS$ 945,00\n",
      "Chicken Invaders Universe Free To Play\n",
      "BLACKTAIL ARS$ 1.759,20\n",
      "River City Girls 2 ARS$ 395,99\n",
      "Lil Gator Game ARS$ 980,00\n",
      "Buriedbornes - Dungeon RPG Free To Play\n",
      "Potion Craft: Alchemist Simulator ARS$ 143,99\n",
      "CRISIS CORE –FINAL FANTASY VII– REUNION ARS$ 3.699,00\n",
      "Master of Magic ARS$ 2.600,00\n",
      "High On Life ARS$ 649,99\n",
      "STALCRAFT Free To Play\n",
      "Choo-Choo Charles ARS$ 1.400,00\n",
      "Chained Echoes ARS$ 1.750,00\n",
      "Assassin's Creed Valhalla ARS$ 1.979,67\n",
      "Knights of Honor II: Sovereign ARS$ 2.850,00\n",
      "Kynseed ARS$ 1.750,00\n",
      "Dwarf Fortress ARS$ 1.215,00\n",
      "Divine Knockout (DKO) ARS$ 1.531,00\n",
      "Divine Knockout (DKO) ARS$ 1.531,00\n",
      "Maurice: In The Predator's Nest Free To Play\n",
      "Need for Speed™ Unbound ARS$ 8.999,00\n",
      "Need for Speed™ Unbound ARS$ 8.999,00\n",
      "The Crackpet Show: Prologue Free\n"
     ]
    }
   ],
   "source": [
    "with open('ultimos-juegos.csv', 'a') as csv_file:\n",
    "     writer = csv.writer(csv_file)\n",
    "     for juego,precio in zip(juegos,precios):\n",
    "        print(juego.text, precio.text)\n",
    "        writer.writerow([juego.text, precio.text])"
   ]
  }
 ],
 "metadata": {
  "kernelspec": {
   "display_name": "Python 3",
   "language": "python",
   "name": "python3"
  },
  "language_info": {
   "codemirror_mode": {
    "name": "ipython",
    "version": 3
   },
   "file_extension": ".py",
   "mimetype": "text/x-python",
   "name": "python",
   "nbconvert_exporter": "python",
   "pygments_lexer": "ipython3",
   "version": "3.9.13"
  },
  "orig_nbformat": 4,
  "vscode": {
   "interpreter": {
    "hash": "5a9dd97664bf91ef683581d1f7f613b6b8bcbe68b67ef643700d803de5486458"
   }
  }
 },
 "nbformat": 4,
 "nbformat_minor": 2
}
